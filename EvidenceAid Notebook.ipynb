{
 "cells": [
  {
   "cell_type": "markdown",
   "metadata": {},
   "source": [
    "Basic Python Programme for .pdf to .txt Conversion - 6.4.2017"
   ]
  },
  {
   "cell_type": "code",
   "execution_count": 17,
   "metadata": {
    "collapsed": true
   },
   "outputs": [],
   "source": [
    "from cStringIO import StringIO\n",
    "from pdfminer.pdfinterp import PDFResourceManager, PDFPageInterpreter\n",
    "from pdfminer.converter import TextConverter\n",
    "from pdfminer.layout import LAParams\n",
    "from pdfminer.pdfpage import PDFPage\n",
    "import os\n",
    "import sys, getopt\n",
    "\n",
    "#converts pdf, returns its text content as a string\n",
    "def convert(fname, pages=None):\n",
    "    if not pages:\n",
    "        pagenums = set()\n",
    "    else:\n",
    "        pagenums = set(pages)\n",
    "\n",
    "    output = StringIO()\n",
    "    manager = PDFResourceManager()\n",
    "    converter = TextConverter(manager, output, laparams=LAParams())\n",
    "    interpreter = PDFPageInterpreter(manager, converter)\n",
    "\n",
    "    infile = file(fname, 'rb')\n",
    "    for page in PDFPage.get_pages(infile, pagenums):\n",
    "        interpreter.process_page(page)\n",
    "    infile.close()\n",
    "    converter.close()\n",
    "    text = output.getvalue()\n",
    "    output.close\n",
    "    return text\n",
    "\n",
    "#converts all pdfs in directory pdfDir, saves all resulting txt files to txtdir\n",
    "def convertMultiple(pdfDir, txtDir):\n",
    "    if pdfDir == \"\":\n",
    "        pdfDir = os.getcwd() + \"\\\\\" #if no pdfDir passed in\n",
    "    for pdf in os.listdir(pdfDir): #iterate through pdfs in pdf directory\n",
    "        fileExtension = pdf.split(\".\")[-1]\n",
    "        #print fileExtension\n",
    "        fileName = pdf.split(\".\")[0]\n",
    "        #print fileName\n",
    "        print fileName + \".pdf\"\n",
    "        if fileExtension == \"pdf\":\n",
    "            pdfFilename = fileName + \".pdf\"\n",
    "            full_pdfFilename = os.path.join(pdfDir, pdfFilename)\n",
    "            text = convert(full_pdfFilename) #get string of text content of pdf\n",
    "            textFilename = pdfFilename + \".txt\"\n",
    "            completeName = os.path.join(txtDir, textFilename)\n",
    "            textFile = open(completeName, \"w\")\n",
    "            textFile.write(text) #write text to text file\n",
    "            \n",
    "    print 'Conversion completed!'\n",
    "    print 'File name:', textFilename\n"
   ]
  },
  {
   "cell_type": "markdown",
   "metadata": {},
   "source": [
    "Now define your .pdf and .txt directories:"
   ]
  },
  {
   "cell_type": "markdown",
   "metadata": {},
   "source": [
    "e.g. \n",
    "\n",
    "pdfDir = '/Users/federicopaoletti/Desktop/Evidence Aid/Scripts/PDFDirectory'\n",
    "\n",
    "txtDir = '/Users/federicopaoletti/Desktop/Evidence Aid/Scripts/TextDirectory/'"
   ]
  },
  {
   "cell_type": "code",
   "execution_count": 18,
   "metadata": {
    "collapsed": true
   },
   "outputs": [],
   "source": [
    "pdfDir = '/Users/federicopaoletti/Desktop/Evidence Aid/Scripts/PDFDirectory/'\n",
    "txtDir = '/Users/federicopaoletti/Desktop/Evidence Aid/Scripts/TextDirectory/'"
   ]
  },
  {
   "cell_type": "markdown",
   "metadata": {},
   "source": [
    "Now run the programme with using the defined directories:"
   ]
  },
  {
   "cell_type": "code",
   "execution_count": 19,
   "metadata": {
    "collapsed": false
   },
   "outputs": [
    {
     "name": "stdout",
     "output_type": "stream",
     "text": [
      "Sphere_Handbook_2011_English.pdf\n",
      "Conversion completed!\n",
      "File name: Sphere_Handbook_2011_English.pdf.txt\n"
     ]
    }
   ],
   "source": [
    "convertMultiple(pdfDir, txtDir)"
   ]
  }
 ],
 "metadata": {
  "kernelspec": {
   "display_name": "Python 2",
   "language": "python",
   "name": "python2"
  },
  "language_info": {
   "codemirror_mode": {
    "name": "ipython",
    "version": 2
   },
   "file_extension": ".py",
   "mimetype": "text/x-python",
   "name": "python",
   "nbconvert_exporter": "python",
   "pygments_lexer": "ipython2",
   "version": "2.7.11"
  }
 },
 "nbformat": 4,
 "nbformat_minor": 0
}
